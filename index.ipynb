{
 "cells": [
  {
   "cell_type": "markdown",
   "metadata": {},
   "source": [
    "# Project: Analyzing Macbeth\n",
    "\n",
    "## Introduction\n",
    "Now we're going to do some rudimentary analysis of Shakespeare's classic play: Macbeth! You will get practice working with lists and dictionaries, conditionals, visualizing data, and thinking analytically about data.\n",
    "\n",
    "## Objectives\n",
    "You will be able to:\n",
    "* Apply string methods to make changes to a string\n",
    "* Use a `for` loop to iterate over a collection\n",
    "* Assign values in a dictionary\n",
    "\n",
    "## Getting the Data\n",
    "Here we start by importing a Python package called `requests`. We'll use it to pull the transcript of Macbeth from the [Project Gutenberg](https://www.gutenberg.org/) website. We'll also preview a few details about what is now stored in the variable `macbeth`. As you can see, it's a string with 120,253 characters - the first 500 of which are printed below. "
   ]
  },
  {
   "cell_type": "code",
   "execution_count": 16,
   "metadata": {},
   "outputs": [
    {
     "name": "stdout",
     "output_type": "stream",
     "text": [
      "<class 'str'>\n",
      "120253\n"
     ]
    },
    {
     "data": {
      "text/plain": [
       "\"\\ufeff\\r\\n\\r\\n***The Project Gutenberg's Etext of Shakespeare's First Folio***\\r\\n********************The Tragedie of Macbeth*********************\\r\\n\\r\\n\\r\\n\\r\\n*******************************************************************\\r\\nTHIS EBOOK WAS ONE OF PROJECT GUTENBERG'S EARLY FILES PRODUCED AT A\\r\\nTIME WHEN PROOFING METHODS AND TOOLS WERE NOT WELL DEVELOPED. THERE\\r\\nIS AN IMPROVED EDITION OF THIS TITLE WHICH MAY BE VIEWED AS EBOOK\\r\\n(#1533) at https://www.gutenberg.org/ebooks/1533\\r\\n*********************************\""
      ]
     },
     "execution_count": 16,
     "metadata": {},
     "output_type": "execute_result"
    }
   ],
   "source": [
    "import requests\n",
    "macbeth = requests.get('http://www.gutenberg.org/cache/epub/2264/pg2264.txt').text\n",
    "\n",
    "print(type(macbeth))\n",
    "print(len(macbeth))\n",
    "macbeth[:500]"
   ]
  },
  {
   "cell_type": "markdown",
   "metadata": {},
   "source": [
    "## Your Task\n",
    "\n",
    "Your task is to create a bar graph of the 25 most common words in Shakespeare's Macbeth.  \n",
    "\n",
    "\n",
    "A common Python programming pattern to count objects, produce histograms, or update statistics is to make calls to a dictionary as you iterate through a list. For example, given a list of words, you can create a dictionary to store counts and then iterate through the list of words, checking how many times each word has appeared using your dictionary, and updating the dictionary count now that you've seen that word again. The `.get()` dictionary method is very useful in doing this. Read the docstring for the `.get()` method and use it along with the pseudocode below to create a bar graph of the 25 most common words from the transcript of Macbeth which has been loaded into the variable 'macbeth'. Be sure to include a title and appropriate labels for your graph.\n",
    "\n",
    "To get the 25 *most common* words, you will have to sort your counts. If you are not super sure how to do this, checkout out the [Sorting HOW TO](https://docs.python.org/3/howto/sorting.html) Python documentation. Part of being a data scientist is figuring out how to do tasks that you may not have done before. Remember, in these situations, Google is your friend!"
   ]
  },
  {
   "cell_type": "code",
   "execution_count": 1,
   "metadata": {},
   "outputs": [],
   "source": [
    "def get_excited(string):\n",
    "    return string + \"!!!!!!\""
   ]
  },
  {
   "cell_type": "code",
   "execution_count": 2,
   "metadata": {},
   "outputs": [
    {
     "data": {
      "text/plain": [
       "'Rafa!!!!!!'"
      ]
     },
     "execution_count": 2,
     "metadata": {},
     "output_type": "execute_result"
    }
   ],
   "source": [
    "get_excited(\"Rafa\")"
   ]
  },
  {
   "cell_type": "code",
   "execution_count": 3,
   "metadata": {},
   "outputs": [],
   "source": [
    "get_excited = lambda string: string + \"!!!!!!\""
   ]
  },
  {
   "cell_type": "code",
   "execution_count": 4,
   "metadata": {},
   "outputs": [
    {
     "data": {
      "text/plain": [
       "'Rafa!!!!!!'"
      ]
     },
     "execution_count": 4,
     "metadata": {},
     "output_type": "execute_result"
    }
   ],
   "source": [
    "get_excited(\"Rafa\")"
   ]
  },
  {
   "cell_type": "code",
   "execution_count": 5,
   "metadata": {},
   "outputs": [],
   "source": [
    "my_sorter = lambda x: x[1] if len(x) > 1 else 99"
   ]
  },
  {
   "cell_type": "code",
   "execution_count": 6,
   "metadata": {},
   "outputs": [
    {
     "data": {
      "text/plain": [
       "['i', 'made', 'a', 'delicious', 'cup', 'of', 'coffee', 'today!']"
      ]
     },
     "execution_count": 6,
     "metadata": {},
     "output_type": "execute_result"
    }
   ],
   "source": [
    "sentence = \"i made a delicious cup of coffee today!\"\n",
    "\n",
    "words = sentence.split()\n",
    "words"
   ]
  },
  {
   "cell_type": "code",
   "execution_count": 7,
   "metadata": {},
   "outputs": [
    {
     "data": {
      "text/plain": [
       "[99, 'a', 99, 'e', 'u', 'f', 'o', 'o']"
      ]
     },
     "execution_count": 7,
     "metadata": {},
     "output_type": "execute_result"
    }
   ],
   "source": [
    "list(map(my_sorter, words))"
   ]
  },
  {
   "cell_type": "code",
   "execution_count": 47,
   "metadata": {
    "scrolled": false
   },
   "outputs": [
    {
     "data": {
      "image/png": "[encoded data removed]",
      "text/plain": [
       "<Figure size 576x360 with 1 Axes>"
      ]
     },
     "metadata": {
      "needs_background": "light"
     },
     "output_type": "display_data"
    }
   ],
   "source": [
    "import numpy as np\n",
    "import matplotlib.pyplot as plt\n",
    "%matplotlib inline\n",
    "\n",
    "# Your code here\n",
    "\n",
    "# Pseudo-code outline\n",
    "\n",
    "# Split the transcript into words\n",
    "macbeth_words = macbeth.split()\n",
    "\n",
    "# Create a dictionary\n",
    "word_counts = {}\n",
    "\n",
    "# Iterate through the text of Macbeth\n",
    "for word in macbeth_words:\n",
    "    # Update word counts\n",
    "    word_counts[word] = word_counts.get(word, 0) + 1\n",
    "\n",
    "# Turn my dictionary into a list of tuples\n",
    "word_count_tuples = []\n",
    "for k, v in word_counts.items():\n",
    "    count_tuple = (k, v)\n",
    "    word_count_tuples.append(count_tuple)\n",
    "\n",
    "# print(word_count_tuples)\n",
    "\n",
    "# Sort words by counts in descending order\n",
    "sorted_word_count_tuples = sorted(word_count_tuples, key=lambda x: x[1], reverse=True)\n",
    "top25_dict = dict(sorted_word_count_tuples[:25])\n",
    "top25_dict\n",
    "\n",
    "# Create Bar Graph\n",
    "plt.figure(figsize=(8, 5))\n",
    "plt.grid(zorder=0)\n",
    "plt.bar(top25_dict.keys(), top25_dict.values(), zorder=2)\n",
    "plt.xlabel(\"words\", fontsize=14)\n",
    "plt.ylabel(\"counts\", fontsize=14)\n",
    "plt.title(\"25 Most Common Words\\nIn Macbeth\", fontsize=14)\n",
    "plt.xticks(rotation=90, fontsize=14)\n",
    "plt.show()\n",
    "# Include descriptive titles and labels"
   ]
  },
  {
   "cell_type": "code",
   "execution_count": 44,
   "metadata": {},
   "outputs": [
    {
     "name": "stdout",
     "output_type": "stream",
     "text": [
      "aaaaaa\n",
      "bbbb\tcccc\n"
     ]
    }
   ],
   "source": [
    "# my code\n",
    "print(\"aaaaaa\" + \"\\n\" + \"bbbb\" + \"\\t\" + \"cccc\")"
   ]
  },
  {
   "cell_type": "code",
   "execution_count": 96,
   "metadata": {},
   "outputs": [
    {
     "name": "stdout",
     "output_type": "stream",
     "text": [
      " abc sdklsdk   sdklskd qwoqwoi \n",
      "abc sdklsdk   sdklskd qwoqwoi\n",
      "['abc', 'sdklsdk', 'sdklskd', 'qwoqwoi']\n"
     ]
    }
   ],
   "source": [
    "# my code\n",
    "tt= ' abc sdklsdk   sdklskd qwoqwoi '\n",
    "\n",
    "\n",
    "print(tt)\n",
    "\n",
    "#strip removes leading and trailing spaces\n",
    "stripped=tt.strip()\n",
    "print(stripped)\n",
    "\n",
    "#split splits a string and generates a list of the separate words\n",
    "splitted = stripped.split()\n",
    "print(splitted)"
   ]
  },
  {
   "cell_type": "code",
   "execution_count": 20,
   "metadata": {},
   "outputs": [
    {
     "data": {
      "text/plain": [
       "\"se them with the heauiest sound\\r\\nthat euer yet they heard\\r\\n\\r\\n   Macd. Humh: I guesse at it\\r\\n\\r\\n   Rosse. Your Castle is surpriz'd: your Wife, and Babes\\r\\nSauagely slaughter'd: To relate the manner\\r\\nWere on the Quarry of these murther'd Deere\\r\\nTo adde the death of you\\r\\n\\r\\n   Malc. Mercifull Heauen:\\r\\nWha\""
      ]
     },
     "execution_count": 20,
     "metadata": {},
     "output_type": "execute_result"
    }
   ],
   "source": [
    "# my code\n",
    "macbeth[100000:100300]"
   ]
  },
  {
   "cell_type": "code",
   "execution_count": 26,
   "metadata": {},
   "outputs": [
    {
     "data": {
      "text/plain": [
       "'\\ufeff       the project gutenberg s etext of shakespeare s first folio                         the tragedie of macbeth                                                                                                  this ebook was one of project gutenberg s early files produced at a  time when proofing '"
      ]
     },
     "execution_count": 26,
     "metadata": {},
     "output_type": "execute_result"
    }
   ],
   "source": [
    "# my code\n",
    "# clean up + split text into words\n",
    "#        \\n is return\n",
    "#        \\t is tab\n",
    "\n",
    "def cleaner(text , punctuation = \".,':?!*$%^&\\()@#<>\"):\n",
    "    text = text.strip(\"\\n\").strip(\"\\t\")\n",
    "    text = text.replace(\"\\n\", \" \")\n",
    "    text = text.replace(\"\\r\", \" \")\n",
    "    for punc in punctuation:\n",
    "        text=text.replace(punc,\" \")\n",
    "    text=text.lower()\n",
    "    return text\n",
    "\n",
    "clean = cleaner(macbeth)\n",
    "\n",
    "#macbeth[100000:100300]\n",
    "clean[0:300]"
   ]
  },
  {
   "cell_type": "code",
   "execution_count": 46,
   "metadata": {},
   "outputs": [
    {
     "name": "stdout",
     "output_type": "stream",
     "text": [
      "[('\\ufeff', 1), ('the', 763), ('project', 32), ('gutenberg', 22), ('s', 160), ('etext', 32), ('of', 428), ('shakespeare', 11), ('first', 22), ('folio', 7)]\n",
      "[('\\ufeff', 1), ('the', 763), ('project', 32), ('gutenberg', 22), ('s', 160), ('etext', 32), ('of', 428), ('shakespeare', 11), ('first', 22), ('folio', 7)]\n",
      "<class 'list'>\n",
      "('macbeth', 67)\n",
      "macbeth\n",
      "67\n",
      "[('the', 763), ('and', 604), ('to', 457), ('of', 428), ('i', 361), ('a', 285), ('you', 272), ('that', 256), ('in', 226), ('d', 224), ('is', 220), ('my', 207), ('it', 183), ('not', 181), ('with', 162), ('s', 160), ('this', 159), ('be', 153), ('his', 147), ('for', 142), ('your', 139), ('macb', 137), ('our', 136), ('but', 126), ('what', 123)]\n",
      "the\n",
      "763\n"
     ]
    },
    {
     "data": {
      "image/png": "[encoded data removed]",
      "text/plain": [
       "<Figure size 864x864 with 1 Axes>"
      ]
     },
     "metadata": {
      "needs_background": "light"
     },
     "output_type": "display_data"
    }
   ],
   "source": [
    "# my code\n",
    "\n",
    "import numpy as np\n",
    "import matplotlib.pyplot as plt\n",
    "%matplotlib inline\n",
    "\n",
    "# clean up + split text into words\n",
    "#        \\n is return\n",
    "#        \\t is tab\n",
    "def cleaner(text , punctuation = \".,':?!*$%^&\\()@#<>\"):\n",
    "    text = text.strip(\"\\n\").strip(\"\\t\")\n",
    "    text = text.replace(\"\\n\", \" \")\n",
    "    text = text.replace(\"\\r\", \" \")\n",
    "    for punc in punctuation:\n",
    "        text=text.replace(punc,\" \")\n",
    "    text=text.lower()\n",
    "    return text\n",
    "\n",
    "clean = cleaner(macbeth)\n",
    "\n",
    "# Split the transcript into words\n",
    "macbeth_words = clean.split()\n",
    "\n",
    "word_counts={}\n",
    "for word in macbeth_words:\n",
    "    word_counts[word]=word_counts.get(word,0)+1\n",
    "#word_counts.get(word,0) is either 0 or word_counts[word] (if word is in dictionary word_counts)\n",
    "\n",
    "print(list(word_counts.items())[:10])\n",
    "\n",
    "# Turn my dictionary into a list of tuples\n",
    "word_count_tuples = []\n",
    "for k,v in word_counts.items():\n",
    "    count_tuple=(k,v)\n",
    "    word_count_tuples.append(count_tuple)\n",
    "\n",
    "print(word_count_tuples[:10])\n",
    "t= word_count_tuples[11]\n",
    "print (type(word_count_tuples))\n",
    "print(t)\n",
    "print(t[0])    \n",
    "print(t[1])    \n",
    "\n",
    "# Sort words by counts in descending order\n",
    "sorted_word_count_tuples = sorted(word_count_tuples, key = lambda x : x[1] , reverse = True)\n",
    "\n",
    "top25=sorted_word_count_tuples[:25]\n",
    "\n",
    "print(top25)\n",
    "print(top25[0][0])\n",
    "print(top25[0][1])\n",
    "\n",
    "# Create Bar Graph\n",
    "#X = [item[0] for item in top25]\n",
    "#Y = [item[1] for item in top25]\n",
    "#plt.bar(X,Y)\n",
    "\n",
    "plt.figure(figsize=(12,12))\n",
    "plt.bar(dict(top25).keys(),dict(top25).values())\n",
    "plt.ylabel('# of occurences',fontsize=16)\n",
    "plt.xlabel('word',fontsize=16)\n",
    "plt.title('Top25 words in Macbeth',fontsize=18)\n",
    "plt.xticks(rotation=90,fontsize=14)\n",
    "plt.show()"
   ]
  },
  {
   "cell_type": "markdown",
   "metadata": {},
   "source": [
    "# Let's clean up our text and repeat! \n"
   ]
  },
  {
   "cell_type": "code",
   "execution_count": 41,
   "metadata": {},
   "outputs": [],
   "source": [
    "def cleaner(text, punctuation=\".?!*$%^&()@#<>\"):\n",
    "    text = text.strip().strip(\"\\n\").strip(\"\\t\")\n",
    "    text = text.replace(\"\\n\", \" \")\n",
    "    text = text.replace(\"\\r\", \"\")\n",
    "    for punc in punctuation:\n",
    "        text = text.replace(punc, \"\")\n",
    "    text = text.lower()\n",
    "    return text"
   ]
  },
  {
   "cell_type": "code",
   "execution_count": 54,
   "metadata": {},
   "outputs": [],
   "source": [
    "macbeth_cleaned = cleaner(macbeth)"
   ]
  },
  {
   "cell_type": "code",
   "execution_count": 55,
   "metadata": {},
   "outputs": [
    {
     "data": {
      "image/png": "[encoded data removed]",
      "text/plain": [
       "<Figure size 576x360 with 1 Axes>"
      ]
     },
     "metadata": {
      "needs_background": "light"
     },
     "output_type": "display_data"
    }
   ],
   "source": [
    "# Split the transcript into words\n",
    "macbeth_words = macbeth_cleaned.split()\n",
    "\n",
    "# Create a dictionary\n",
    "word_counts = {}\n",
    "\n",
    "# Iterate through the text of Macbeth\n",
    "for word in macbeth_words:\n",
    "    # Update word counts\n",
    "    word_counts[word] = word_counts.get(word, 0) + 1\n",
    "\n",
    "# Turn my dictionary into a list of tuples\n",
    "word_count_tuples = []\n",
    "for k, v in word_counts.items():\n",
    "    count_tuple = (k, v)\n",
    "    word_count_tuples.append(count_tuple)\n",
    "\n",
    "# print(word_count_tuples)\n",
    "\n",
    "# Sort words by counts in descending order\n",
    "sorted_word_count_tuples = sorted(word_count_tuples, key=lambda x: x[1], reverse=True)\n",
    "top25_dict = dict(sorted_word_count_tuples[:25])\n",
    "top25_dict\n",
    "\n",
    "# Create Bar Graph\n",
    "plt.figure(figsize=(8, 5))\n",
    "plt.grid(zorder=0)\n",
    "plt.bar(top25_dict.keys(), top25_dict.values(), zorder=2)\n",
    "plt.xlabel(\"words\", fontsize=14)\n",
    "plt.ylabel(\"counts\", fontsize=14)\n",
    "plt.title(\"25 Most Common Words\\nIn Macbeth\", fontsize=14)\n",
    "plt.xticks(rotation=90, fontsize=14)\n",
    "plt.show()\n"
   ]
  },
  {
   "cell_type": "markdown",
   "metadata": {},
   "source": [
    "## Level Up (Optional)\n",
    "This project should take you about an hour and a half to complete. If you're done much more quickly than that and are not behind in the course, feel free to deepen your knowledge by completing any or all of the following tasks until you run out of time:\n",
    "* Create a list of top characters by mentions of their names \n",
    "* Split the text by which character is talking\n",
    "* Create subgraphs of the most common words by character\n",
    "* Reduce the string to the text of the play itself. (Remove any initial notes, forward, introduction, appendix, etc.)\n",
    "* Come up with some other fun analyses of the text!\n",
    "\n",
    "## Summary\n",
    "Congratulations! You've got some extra practice combining various data types into useful programming patterns and done an initial analysis of a classic text!"
   ]
  }
 ],
 "metadata": {
  "kernelspec": {
   "display_name": "Python [conda env:learn-env] *",
   "language": "python",
   "name": "conda-env-learn-env-py"
  },
  "language_info": {
   "codemirror_mode": {
    "name": "ipython",
    "version": 3
   },
   "file_extension": ".py",
   "mimetype": "text/x-python",
   "name": "python",
   "nbconvert_exporter": "python",
   "pygments_lexer": "ipython3",
   "version": "3.6.9"
  }
 },
 "nbformat": 4,
 "nbformat_minor": 2
}
